{
 "cells": [
  {
   "cell_type": "markdown",
   "id": "04a5dfbf",
   "metadata": {},
   "source": [
    "## Simple Logistic Regression"
   ]
  },
  {
   "cell_type": "markdown",
   "id": "32c04dee",
   "metadata": {},
   "source": [
    "Import Pandas and scikit-learn dependencies, particularly the `LogisticRegression` linear model."
   ]
  },
  {
   "cell_type": "code",
   "execution_count": 2,
   "id": "0e5b3e6e",
   "metadata": {},
   "outputs": [],
   "source": [
    "import pandas as pd\n",
    "import numpy as np \n",
    "from sklearn.linear_model import LogisticRegression"
   ]
  },
  {
   "cell_type": "markdown",
   "id": "5bec5246",
   "metadata": {},
   "source": [
    "Read and display the two columns of data, and save to a `df` variable. "
   ]
  },
  {
   "cell_type": "code",
   "execution_count": 3,
   "id": "fb1be73a",
   "metadata": {},
   "outputs": [
    {
     "data": {
      "text/html": [
       "<div>\n",
       "<style scoped>\n",
       "    .dataframe tbody tr th:only-of-type {\n",
       "        vertical-align: middle;\n",
       "    }\n",
       "\n",
       "    .dataframe tbody tr th {\n",
       "        vertical-align: top;\n",
       "    }\n",
       "\n",
       "    .dataframe thead th {\n",
       "        text-align: right;\n",
       "    }\n",
       "</style>\n",
       "<table border=\"1\" class=\"dataframe\">\n",
       "  <thead>\n",
       "    <tr style=\"text-align: right;\">\n",
       "      <th></th>\n",
       "      <th>x</th>\n",
       "      <th>y</th>\n",
       "    </tr>\n",
       "  </thead>\n",
       "  <tbody>\n",
       "    <tr>\n",
       "      <th>0</th>\n",
       "      <td>1.0</td>\n",
       "      <td>0</td>\n",
       "    </tr>\n",
       "    <tr>\n",
       "      <th>1</th>\n",
       "      <td>1.5</td>\n",
       "      <td>0</td>\n",
       "    </tr>\n",
       "    <tr>\n",
       "      <th>2</th>\n",
       "      <td>2.1</td>\n",
       "      <td>0</td>\n",
       "    </tr>\n",
       "    <tr>\n",
       "      <th>3</th>\n",
       "      <td>2.4</td>\n",
       "      <td>0</td>\n",
       "    </tr>\n",
       "    <tr>\n",
       "      <th>4</th>\n",
       "      <td>2.5</td>\n",
       "      <td>1</td>\n",
       "    </tr>\n",
       "    <tr>\n",
       "      <th>5</th>\n",
       "      <td>3.1</td>\n",
       "      <td>0</td>\n",
       "    </tr>\n",
       "    <tr>\n",
       "      <th>6</th>\n",
       "      <td>4.2</td>\n",
       "      <td>0</td>\n",
       "    </tr>\n",
       "    <tr>\n",
       "      <th>7</th>\n",
       "      <td>4.4</td>\n",
       "      <td>1</td>\n",
       "    </tr>\n",
       "    <tr>\n",
       "      <th>8</th>\n",
       "      <td>4.6</td>\n",
       "      <td>1</td>\n",
       "    </tr>\n",
       "    <tr>\n",
       "      <th>9</th>\n",
       "      <td>4.9</td>\n",
       "      <td>0</td>\n",
       "    </tr>\n",
       "    <tr>\n",
       "      <th>10</th>\n",
       "      <td>5.2</td>\n",
       "      <td>1</td>\n",
       "    </tr>\n",
       "    <tr>\n",
       "      <th>11</th>\n",
       "      <td>5.6</td>\n",
       "      <td>0</td>\n",
       "    </tr>\n",
       "    <tr>\n",
       "      <th>12</th>\n",
       "      <td>6.1</td>\n",
       "      <td>1</td>\n",
       "    </tr>\n",
       "    <tr>\n",
       "      <th>13</th>\n",
       "      <td>6.4</td>\n",
       "      <td>1</td>\n",
       "    </tr>\n",
       "    <tr>\n",
       "      <th>14</th>\n",
       "      <td>6.6</td>\n",
       "      <td>1</td>\n",
       "    </tr>\n",
       "    <tr>\n",
       "      <th>15</th>\n",
       "      <td>7.0</td>\n",
       "      <td>0</td>\n",
       "    </tr>\n",
       "    <tr>\n",
       "      <th>16</th>\n",
       "      <td>7.6</td>\n",
       "      <td>1</td>\n",
       "    </tr>\n",
       "    <tr>\n",
       "      <th>17</th>\n",
       "      <td>7.8</td>\n",
       "      <td>1</td>\n",
       "    </tr>\n",
       "    <tr>\n",
       "      <th>18</th>\n",
       "      <td>8.4</td>\n",
       "      <td>1</td>\n",
       "    </tr>\n",
       "    <tr>\n",
       "      <th>19</th>\n",
       "      <td>8.8</td>\n",
       "      <td>1</td>\n",
       "    </tr>\n",
       "    <tr>\n",
       "      <th>20</th>\n",
       "      <td>9.2</td>\n",
       "      <td>1</td>\n",
       "    </tr>\n",
       "  </tbody>\n",
       "</table>\n",
       "</div>"
      ],
      "text/plain": [
       "      x  y\n",
       "0   1.0  0\n",
       "1   1.5  0\n",
       "2   2.1  0\n",
       "3   2.4  0\n",
       "4   2.5  1\n",
       "5   3.1  0\n",
       "6   4.2  0\n",
       "7   4.4  1\n",
       "8   4.6  1\n",
       "9   4.9  0\n",
       "10  5.2  1\n",
       "11  5.6  0\n",
       "12  6.1  1\n",
       "13  6.4  1\n",
       "14  6.6  1\n",
       "15  7.0  0\n",
       "16  7.6  1\n",
       "17  7.8  1\n",
       "18  8.4  1\n",
       "19  8.8  1\n",
       "20  9.2  1"
      ]
     },
     "execution_count": 3,
     "metadata": {},
     "output_type": "execute_result"
    }
   ],
   "source": [
    "df = pd.read_csv('https://bit.ly/33ebs2R', delimiter=\",\")\n",
    "df"
   ]
  },
  {
   "cell_type": "markdown",
   "id": "5f710efc",
   "metadata": {},
   "source": [
    "Extract the independent `X` variables and dependent `Y` variables as two separate columns. "
   ]
  },
  {
   "cell_type": "code",
   "execution_count": 4,
   "id": "e7413e5e",
   "metadata": {},
   "outputs": [],
   "source": [
    "X = df.values[:, :-1]\n",
    "Y = df.values[:, -1]"
   ]
  },
  {
   "cell_type": "markdown",
   "id": "e7a2beea",
   "metadata": {},
   "source": [
    "Plot the data with `matplotlib`. "
   ]
  },
  {
   "cell_type": "code",
   "execution_count": 5,
   "id": "c720de27",
   "metadata": {
    "scrolled": false
   },
   "outputs": [
    {
     "data": {
      "image/png": "[encoded data removed]",
      "text/plain": [
       "<Figure size 432x288 with 1 Axes>"
      ]
     },
     "metadata": {
      "needs_background": "light"
     },
     "output_type": "display_data"
    }
   ],
   "source": [
    "import matplotlib.pyplot as plt\n",
    "\n",
    "# show in chart\n",
    "plt.plot(X, Y, 'o') # scatterplot\n",
    "plt.show()"
   ]
  },
  {
   "cell_type": "markdown",
   "id": "afcb0105",
   "metadata": {},
   "source": [
    "Create the `LogisticRegression` model and train it with the `X` and `Y` data. To keep things simple, be sure to set `penalty` to `none` to maximize fitting. "
   ]
  },
  {
   "cell_type": "code",
   "execution_count": 6,
   "id": "195a0f06",
   "metadata": {},
   "outputs": [
    {
     "data": {
      "text/plain": [
       "LogisticRegression(penalty='none')"
      ]
     },
     "execution_count": 6,
     "metadata": {},
     "output_type": "execute_result"
    }
   ],
   "source": [
    "model = LogisticRegression(penalty='none')\n",
    "model.fit(X, Y) "
   ]
  },
  {
   "cell_type": "markdown",
   "id": "dc396dba",
   "metadata": {},
   "source": [
    "Print the coefficient values of $ \\beta_0 $ and $ \\beta_1 $.  "
   ]
  },
  {
   "cell_type": "code",
   "execution_count": 7,
   "id": "5d3387ec",
   "metadata": {
    "scrolled": false
   },
   "outputs": [
    {
     "name": "stdout",
     "output_type": "stream",
     "text": [
      "-3.175763946727169 0.6926721243460745\n"
     ]
    }
   ],
   "source": [
    "b1 = model.coef_.flatten()[0]\n",
    "b0 = model.intercept_.flatten()[0]\n",
    "print(b0, b1)"
   ]
  },
  {
   "cell_type": "markdown",
   "id": "d77fb79c",
   "metadata": {},
   "source": [
    "Finally, let's plot the logistic regression."
   ]
  },
  {
   "cell_type": "code",
   "execution_count": 8,
   "id": "5ae5bb09",
   "metadata": {},
   "outputs": [
    {
     "data": {
      "image/png": "[encoded data removed]",
      "text/plain": [
       "<Figure size 432x288 with 1 Axes>"
      ]
     },
     "metadata": {
      "needs_background": "light"
     },
     "output_type": "display_data"
    }
   ],
   "source": [
    "plt.plot(X, 1.0 / (1.0 + np.exp(-(b0 + b1*X)))) # curve\n",
    "plt.plot(X, Y, 'o') # scatterplot\n",
    "plt.show()"
   ]
  },
  {
   "cell_type": "code",
   "execution_count": null,
   "id": "140603f0",
   "metadata": {},
   "outputs": [],
   "source": []
  }
 ],
 "metadata": {
  "kernelspec": {
   "display_name": "Python 3 (ipykernel)",
   "language": "python",
   "name": "python3"
  },
  "language_info": {
   "codemirror_mode": {
    "name": "ipython",
    "version": 3
   },
   "file_extension": ".py",
   "mimetype": "text/x-python",
   "name": "python",
   "nbconvert_exporter": "python",
   "pygments_lexer": "ipython3",
   "version": "3.9.7"
  }
 },
 "nbformat": 4,
 "nbformat_minor": 5
}
