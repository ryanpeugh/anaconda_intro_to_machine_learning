{
 "cells": [
  {
   "cell_type": "markdown",
   "id": "fbcf111f",
   "metadata": {},
   "source": [
    "# Neural Networks\n",
    "\n",
    "Import dependencies."
   ]
  },
  {
   "cell_type": "code",
   "execution_count": 2,
   "id": "59e4ed99",
   "metadata": {
    "scrolled": true
   },
   "outputs": [],
   "source": [
    "import pandas as pd\n",
    "from sklearn.model_selection import train_test_split\n",
    "from sklearn.neural_network import MLPClassifier\n",
    "from sklearn.metrics import confusion_matrix\n"
   ]
  },
  {
   "cell_type": "markdown",
   "id": "b109689c",
   "metadata": {},
   "source": [
    "Bring in data and present in dataframe."
   ]
  },
  {
   "cell_type": "code",
   "execution_count": 3,
   "id": "b2dfae00",
   "metadata": {},
   "outputs": [
    {
     "data": {
      "text/html": [
       "<div>\n",
       "<style scoped>\n",
       "    .dataframe tbody tr th:only-of-type {\n",
       "        vertical-align: middle;\n",
       "    }\n",
       "\n",
       "    .dataframe tbody tr th {\n",
       "        vertical-align: top;\n",
       "    }\n",
       "\n",
       "    .dataframe thead th {\n",
       "        text-align: right;\n",
       "    }\n",
       "</style>\n",
       "<table border=\"1\" class=\"dataframe\">\n",
       "  <thead>\n",
       "    <tr style=\"text-align: right;\">\n",
       "      <th></th>\n",
       "      <th>RED</th>\n",
       "      <th>GREEN</th>\n",
       "      <th>BLUE</th>\n",
       "      <th>LIGHT_OR_DARK_FONT_IND</th>\n",
       "    </tr>\n",
       "  </thead>\n",
       "  <tbody>\n",
       "    <tr>\n",
       "      <th>0</th>\n",
       "      <td>0</td>\n",
       "      <td>0</td>\n",
       "      <td>0</td>\n",
       "      <td>0</td>\n",
       "    </tr>\n",
       "    <tr>\n",
       "      <th>1</th>\n",
       "      <td>0</td>\n",
       "      <td>0</td>\n",
       "      <td>128</td>\n",
       "      <td>0</td>\n",
       "    </tr>\n",
       "    <tr>\n",
       "      <th>2</th>\n",
       "      <td>0</td>\n",
       "      <td>0</td>\n",
       "      <td>139</td>\n",
       "      <td>0</td>\n",
       "    </tr>\n",
       "    <tr>\n",
       "      <th>3</th>\n",
       "      <td>0</td>\n",
       "      <td>0</td>\n",
       "      <td>205</td>\n",
       "      <td>0</td>\n",
       "    </tr>\n",
       "    <tr>\n",
       "      <th>4</th>\n",
       "      <td>0</td>\n",
       "      <td>0</td>\n",
       "      <td>238</td>\n",
       "      <td>0</td>\n",
       "    </tr>\n",
       "    <tr>\n",
       "      <th>...</th>\n",
       "      <td>...</td>\n",
       "      <td>...</td>\n",
       "      <td>...</td>\n",
       "      <td>...</td>\n",
       "    </tr>\n",
       "    <tr>\n",
       "      <th>1340</th>\n",
       "      <td>95</td>\n",
       "      <td>158</td>\n",
       "      <td>160</td>\n",
       "      <td>1</td>\n",
       "    </tr>\n",
       "    <tr>\n",
       "      <th>1341</th>\n",
       "      <td>96</td>\n",
       "      <td>123</td>\n",
       "      <td>139</td>\n",
       "      <td>0</td>\n",
       "    </tr>\n",
       "    <tr>\n",
       "      <th>1342</th>\n",
       "      <td>97</td>\n",
       "      <td>97</td>\n",
       "      <td>97</td>\n",
       "      <td>0</td>\n",
       "    </tr>\n",
       "    <tr>\n",
       "      <th>1343</th>\n",
       "      <td>99</td>\n",
       "      <td>184</td>\n",
       "      <td>255</td>\n",
       "      <td>1</td>\n",
       "    </tr>\n",
       "    <tr>\n",
       "      <th>1344</th>\n",
       "      <td>99</td>\n",
       "      <td>99</td>\n",
       "      <td>99</td>\n",
       "      <td>0</td>\n",
       "    </tr>\n",
       "  </tbody>\n",
       "</table>\n",
       "<p>1345 rows × 4 columns</p>\n",
       "</div>"
      ],
      "text/plain": [
       "      RED  GREEN  BLUE  LIGHT_OR_DARK_FONT_IND\n",
       "0       0      0     0                       0\n",
       "1       0      0   128                       0\n",
       "2       0      0   139                       0\n",
       "3       0      0   205                       0\n",
       "4       0      0   238                       0\n",
       "...   ...    ...   ...                     ...\n",
       "1340   95    158   160                       1\n",
       "1341   96    123   139                       0\n",
       "1342   97     97    97                       0\n",
       "1343   99    184   255                       1\n",
       "1344   99     99    99                       0\n",
       "\n",
       "[1345 rows x 4 columns]"
      ]
     },
     "execution_count": 3,
     "metadata": {},
     "output_type": "execute_result"
    }
   ],
   "source": [
    "df = pd.read_csv('https://bit.ly/3GsNzGt', delimiter=\",\")\n",
    "df\n"
   ]
  },
  {
   "cell_type": "markdown",
   "id": "1dfa3d3a",
   "metadata": {},
   "source": [
    "Extract out input and output variable columns, scale down input variables by 255. Separate training and testing dataset by $ 1/3 $. "
   ]
  },
  {
   "cell_type": "code",
   "execution_count": 4,
   "id": "17be5754",
   "metadata": {},
   "outputs": [],
   "source": [
    "\n",
    "# Extract input variables (all rows, all columns but last column)\n",
    "# Note we should do some linear scaling here\n",
    "X = (df.values[:, :-1] / 255.0)\n",
    "\n",
    "# Extract output column (all rows, last column)\n",
    "Y = df.values[:, -1]\n",
    "\n",
    "# Separate training and testing data\n",
    "X_train, X_test, Y_train, Y_test = train_test_split(X, Y, test_size=1/3, random_state=7)\n",
    "\n"
   ]
  },
  {
   "cell_type": "markdown",
   "id": "50530737",
   "metadata": {},
   "source": [
    "Fit a neural network (multi-layer perceptron) classifier with a middle ReLU function, 3 nodes in a hidden layer, 100000 iterations, and a .05 learning rate. Fit the training data to the model. "
   ]
  },
  {
   "cell_type": "code",
   "execution_count": 5,
   "id": "0dbb5b6e",
   "metadata": {},
   "outputs": [
    {
     "data": {
      "text/plain": [
       "MLPClassifier(hidden_layer_sizes=(3,), learning_rate_init=0.05, max_iter=100000,\n",
       "              solver='sgd')"
      ]
     },
     "execution_count": 5,
     "metadata": {},
     "output_type": "execute_result"
    }
   ],
   "source": [
    "\n",
    "nn = MLPClassifier(solver='sgd',\n",
    "                   hidden_layer_sizes=(3, ),\n",
    "                   activation='relu',\n",
    "                   max_iter=100_000,\n",
    "                   learning_rate_init=.05)\n",
    "\n",
    "nn.fit(X_train, Y_train)\n"
   ]
  },
  {
   "cell_type": "markdown",
   "id": "3e4764b6",
   "metadata": {},
   "source": [
    "Print out the coefficients and test score, as well as the confusion matrix. "
   ]
  },
  {
   "cell_type": "code",
   "execution_count": 6,
   "id": "43b53768",
   "metadata": {},
   "outputs": [
    {
     "name": "stdout",
     "output_type": "stream",
     "text": [
      "[array([[-3.27658465, -0.40598006, -0.41139133],\n",
      "       [-6.58653714, -0.51971059,  0.20477868],\n",
      "       [-1.228926  , -0.10780608, -0.01830028]]), array([[-9.57301116],\n",
      "       [-0.63989793],\n",
      "       [-0.36050512]])]\n",
      "[array([ 6.14305999, -0.35720282, -0.86716795]), array([5.98366523])]\n",
      "Test set score: 0.995546\n",
      "[[176   2]\n",
      " [  0 271]]\n"
     ]
    }
   ],
   "source": [
    "\n",
    "# Print weights and biases\n",
    "print(nn.coefs_ )\n",
    "print(nn.intercepts_)\n",
    "\n",
    "print(\"Test set score: %f\" % nn.score(X_test, Y_test))\n",
    "\n",
    "cf = confusion_matrix(y_true=Y_test, y_pred=nn.predict(X_test))\n",
    "print(cf)"
   ]
  },
  {
   "cell_type": "code",
   "execution_count": null,
   "id": "3e689553",
   "metadata": {},
   "outputs": [],
   "source": []
  }
 ],
 "metadata": {
  "kernelspec": {
   "display_name": "Python 3 (ipykernel)",
   "language": "python",
   "name": "python3"
  },
  "language_info": {
   "codemirror_mode": {
    "name": "ipython",
    "version": 3
   },
   "file_extension": ".py",
   "mimetype": "text/x-python",
   "name": "python",
   "nbconvert_exporter": "python",
   "pygments_lexer": "ipython3",
   "version": "3.9.7"
  }
 },
 "nbformat": 4,
 "nbformat_minor": 5
}
