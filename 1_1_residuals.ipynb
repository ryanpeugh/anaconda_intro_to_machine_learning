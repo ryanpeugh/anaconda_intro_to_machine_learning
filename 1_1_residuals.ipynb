{
 "cells": [
  {
   "cell_type": "markdown",
   "id": "04a5dfbf",
   "metadata": {},
   "source": [
    "## Calculating Residuals"
   ]
  },
  {
   "cell_type": "markdown",
   "id": "5bec5246",
   "metadata": {},
   "source": [
    "Declare 3 data points as training data"
   ]
  },
  {
   "cell_type": "code",
   "execution_count": null,
   "id": "fb1be73a",
   "metadata": {},
   "outputs": [],
   "source": [
    "x_data = [ 1.0, 2.0, 3.0 ]\n",
    "y_actuals = [ 1.2, 1.25, 2.0 ]"
   ]
  },
  {
   "cell_type": "markdown",
   "id": "5f710efc",
   "metadata": {},
   "source": [
    "Declare slope and intercept coefficients"
   ]
  },
  {
   "cell_type": "code",
   "execution_count": null,
   "id": "e7413e5e",
   "metadata": {},
   "outputs": [],
   "source": [
    "m = .368421\n",
    "b = .587719"
   ]
  },
  {
   "cell_type": "markdown",
   "id": "e7a2beea",
   "metadata": {},
   "source": [
    "Plot the scatterplot with the line"
   ]
  },
  {
   "cell_type": "code",
   "execution_count": 1,
   "id": "c720de27",
   "metadata": {
    "scrolled": true
   },
   "outputs": [
    {
     "ename": "NameError",
     "evalue": "name 'x_data' is not defined",
     "output_type": "error",
     "traceback": [
      "\u001b[0;31m---------------------------------------------------------------------------\u001b[0m",
      "\u001b[0;31mNameError\u001b[0m                                 Traceback (most recent call last)",
      "\u001b[0;32m/var/folders/hz/3fd594vs66n3dxrjxmv5jxzr0000gn/T/ipykernel_1367/2529958371.py\u001b[0m in \u001b[0;36m<module>\u001b[0;34m\u001b[0m\n\u001b[1;32m      2\u001b[0m \u001b[0;34m\u001b[0m\u001b[0m\n\u001b[1;32m      3\u001b[0m \u001b[0;31m# show in chart\u001b[0m\u001b[0;34m\u001b[0m\u001b[0;34m\u001b[0m\u001b[0m\n\u001b[0;32m----> 4\u001b[0;31m \u001b[0mplt\u001b[0m\u001b[0;34m.\u001b[0m\u001b[0mplot\u001b[0m\u001b[0;34m(\u001b[0m\u001b[0mx_data\u001b[0m\u001b[0;34m,\u001b[0m \u001b[0my_actuals\u001b[0m\u001b[0;34m,\u001b[0m \u001b[0;34m'o'\u001b[0m\u001b[0;34m)\u001b[0m \u001b[0;31m# scatterplot\u001b[0m\u001b[0;34m\u001b[0m\u001b[0;34m\u001b[0m\u001b[0m\n\u001b[0m\u001b[1;32m      5\u001b[0m \u001b[0mplt\u001b[0m\u001b[0;34m.\u001b[0m\u001b[0mplot\u001b[0m\u001b[0;34m(\u001b[0m\u001b[0mx_data\u001b[0m\u001b[0;34m,\u001b[0m \u001b[0;34m[\u001b[0m\u001b[0mm\u001b[0m\u001b[0;34m*\u001b[0m\u001b[0mx\u001b[0m\u001b[0;34m+\u001b[0m\u001b[0mb\u001b[0m \u001b[0;32mfor\u001b[0m \u001b[0mx\u001b[0m \u001b[0;32min\u001b[0m \u001b[0mx_data\u001b[0m\u001b[0;34m]\u001b[0m\u001b[0;34m)\u001b[0m \u001b[0;31m# line\u001b[0m\u001b[0;34m\u001b[0m\u001b[0;34m\u001b[0m\u001b[0m\n\u001b[1;32m      6\u001b[0m \u001b[0mplt\u001b[0m\u001b[0;34m.\u001b[0m\u001b[0mshow\u001b[0m\u001b[0;34m(\u001b[0m\u001b[0;34m)\u001b[0m\u001b[0;34m\u001b[0m\u001b[0;34m\u001b[0m\u001b[0m\n",
      "\u001b[0;31mNameError\u001b[0m: name 'x_data' is not defined"
     ]
    }
   ],
   "source": [
    "import matplotlib.pyplot as plt\n",
    "\n",
    "# show in chart\n",
    "plt.plot(x_data, y_actuals, 'o') # scatterplot\n",
    "plt.plot(x_data, [m*x+b for x in x_data]) # line\n",
    "plt.show()"
   ]
  },
  {
   "cell_type": "markdown",
   "id": "afcb0105",
   "metadata": {},
   "source": [
    "Calculate predicted y-values"
   ]
  },
  {
   "cell_type": "code",
   "execution_count": null,
   "id": "195a0f06",
   "metadata": {},
   "outputs": [],
   "source": [
    "y_predicts = [ m*x + b for x in x_data ] "
   ]
  },
  {
   "cell_type": "markdown",
   "id": "dc396dba",
   "metadata": {},
   "source": [
    "Print residuals"
   ]
  },
  {
   "cell_type": "code",
   "execution_count": null,
   "id": "5d3387ec",
   "metadata": {
    "scrolled": true
   },
   "outputs": [],
   "source": [
    "for (y_actual, y_predict) in zip(y_actuals, y_predicts): \n",
    "    residual = y_actual - y_predict\n",
    "    print(\"RESIDUAL: \", residual)"
   ]
  },
  {
   "cell_type": "code",
   "execution_count": null,
   "id": "5ae5bb09",
   "metadata": {},
   "outputs": [],
   "source": []
  }
 ],
 "metadata": {
  "kernelspec": {
   "display_name": "Python 3 (ipykernel)",
   "language": "python",
   "name": "python3"
  },
  "language_info": {
   "codemirror_mode": {
    "name": "ipython",
    "version": 3
   },
   "file_extension": ".py",
   "mimetype": "text/x-python",
   "name": "python",
   "nbconvert_exporter": "python",
   "pygments_lexer": "ipython3",
   "version": "3.9.7"
  }
 },
 "nbformat": 4,
 "nbformat_minor": 5
}
